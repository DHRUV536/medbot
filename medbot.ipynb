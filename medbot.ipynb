{
 "cells": [
  {
   "cell_type": "markdown",
   "metadata": {
    "slideshow": {
     "slide_type": "slide"
    }
   },
   "source": [
    "# \"It's about time to take your medication!\"\n",
    "## or how to write a friendly reminder bot ;-)\n",
    "\n",
    "* Florian Wilhelm, Blue Yonder\n",
    "* EuroPython 2015, Bilbao, Spain\n",
    "* [https://github.com/blue-yonder/medbot/](https://github.com/blue-yonder/medbot/)"
   ]
  },
  {
   "cell_type": "markdown",
   "metadata": {
    "slideshow": {
     "slide_type": "slide"
    }
   },
   "source": [
    "# Outline\n",
    "* Motivation\n",
    "* XMPP/Hangups\n",
    "* Event-Driven/Asynchronous Programming\n",
    "* OAUTH2\n",
    "* Credits"
   ]
  },
  {
   "cell_type": "markdown",
   "metadata": {
    "collapsed": true,
    "slideshow": {
     "slide_type": "slide"
    }
   },
   "source": [
    "# Motivation\n",
    "\n",
    "Why would anyone write a chat bot?"
   ]
  },
  {
   "cell_type": "markdown",
   "metadata": {
    "slideshow": {
     "slide_type": "subslide"
    }
   },
   "source": [
    "# Motivation\n",
    "\n",
    "Learn about...\n",
    "* the basics of chat protocols like XMPP\n",
    "* the concepts of event-driven/asynchronous programming\n",
    "* how to write a small Google App\n",
    "* help a friend with diabetes\n"
   ]
  },
  {
   "cell_type": "markdown",
   "metadata": {
    "slideshow": {
     "slide_type": "slide"
    }
   },
   "source": [
    "# XMPP\n",
    "* Extensible Messaging and Presence Protocol based on XML\n",
    "* developed by the Jabber open-source community in 1999 for near real-time instant messaging\n",
    "* GTalk is based on XMPP but Hangout switched to a proprietary protocol\n",
    "* Facebook provided an XMPP API until May, 2015\n",
    "* AIM limited XMPP support"
   ]
  },
  {
   "cell_type": "markdown",
   "metadata": {
    "slideshow": {
     "slide_type": "subslide"
    }
   },
   "source": [
    "# SleekXMPP\n",
    "* MIT licensed XMPP library\n",
    "* Python 2.6/3.1+\n",
    "* Featured in the O'Reilly book [XMPP: The Definitive Guide](http://shop.oreilly.com/product/9780596521271.do) by Kevin Smith, Remko Tronçon, and Peter Saint-Andre\n",
    "* **Design goals:** low number of dependencies, every XEP as a plugin and rewarding to work with"
   ]
  },
  {
   "cell_type": "markdown",
   "metadata": {
    "slideshow": {
     "slide_type": "slide"
    }
   },
   "source": [
    "# Google Hangouts protocol\n",
    "* replaces Google Talk, Google+ Messenger and the Google+ video chat system\n",
    "* proprietary protocol, cannot be integrated with multi-chat clients like Pidgin or Adium\n",
    "* Some more features like photo messages and share location\n",
    "* Python library: [hangups](https://github.com/tdryer/hangups)\n"
   ]
  },
  {
   "cell_type": "markdown",
   "metadata": {
    "slideshow": {
     "slide_type": "subslide"
    }
   },
   "source": [
    "# Hangups\n",
    "* by Tom Dryer, MIT licensed\n",
    "* reverse-engineered the Hangouts protocol\n",
    "* provides a basic command-line chatting client\n",
    "* supports OAuth2 authentication as \"iOS device\"\n",
    "* quite active, already some bots use it\n",
    "* [https://github.com/tdryer/hangups](https://github.com/tdryer/hangups)\n"
   ]
  },
  {
   "cell_type": "markdown",
   "metadata": {
    "slideshow": {
     "slide_type": "slide"
    }
   },
   "source": [
    "#Event-driven Programming\n",
    "> In an event-driven program, program flow is determined by external events. It is characterized by an *event loop* and the use of callback to trigger actions when events happen. - **Jessica McKellar, Twisted Network Programming Essentials**"
   ]
  },
  {
   "cell_type": "markdown",
   "metadata": {
    "slideshow": {
     "slide_type": "fragment"
    }
   },
   "source": [
    "* main loop listens for events and triggers *callback functions* (continuations) when one of these events is detected\n",
    "* mostly single-threaded but multi-threaded architectures also exist\n",
    "* can be blocking (synchronous) or non-blocking (asynchronous)"
   ]
  },
  {
   "cell_type": "markdown",
   "metadata": {
    "slideshow": {
     "slide_type": "subslide"
    }
   },
   "source": [
    "#Asynchronous Programming\n",
    "> Asynchronous I/O, or non-blocking I/O is a form of input/output processing that permits other processing to continue before the transmission has finished - **Wikipedia**"
   ]
  },
  {
   "cell_type": "markdown",
   "metadata": {
    "slideshow": {
     "slide_type": "fragment"
    }
   },
   "source": [
    "* a form of cooperative multi-tasking\n",
    "* concept can be implemented as an event loop"
   ]
  },
  {
   "cell_type": "markdown",
   "metadata": {
    "slideshow": {
     "slide_type": "subslide"
    }
   },
   "source": [
    "#When to use asynchronous event-driven programming?\n",
    "* if you have many tasks\n",
    "* your tasks are largely independent (no much inter-communication)\n",
    "* some tasks block while waiting for I/O, events...\n",
    "* your tasks share mutable data (that would need to be synced)\n",
    "\n",
    "Escpecially *network applications* and *user interfaces* have exactly these properties"
   ]
  },
  {
   "cell_type": "markdown",
   "metadata": {
    "slideshow": {
     "slide_type": "subslide"
    }
   },
   "source": [
    "![single threaded](gfx/asynchronous_st.png)"
   ]
  },
  {
   "cell_type": "markdown",
   "metadata": {
    "slideshow": {
     "slide_type": "subslide"
    }
   },
   "source": [
    "![multi-threaded](gfx/asynchronous_mt.png)"
   ]
  },
  {
   "cell_type": "markdown",
   "metadata": {
    "slideshow": {
     "slide_type": "subslide"
    }
   },
   "source": [
    "![asynchronous](gfx/asynchronous_async.png)"
   ]
  },
  {
   "cell_type": "markdown",
   "metadata": {
    "slideshow": {
     "slide_type": "subslide"
    }
   },
   "source": [
    "# Examples\n",
    "\n",
    "**Task**: Fetch some urls and check the elapsed time\n",
    "\n",
    "1. single-threaded\n",
    "1. multi-threaded\n",
    "1. asynchronous"
   ]
  },
  {
   "cell_type": "markdown",
   "metadata": {
    "slideshow": {
     "slide_type": "subslide"
    }
   },
   "source": [
    "# Single-threaded\n",
    "&#8203;"
   ]
  },
  {
   "cell_type": "code",
   "execution_count": 2,
   "metadata": {
    "collapsed": false,
    "slideshow": {
     "slide_type": "fragment"
    }
   },
   "outputs": [
    {
     "name": "stdout",
     "output_type": "stream",
     "text": [
      "b'<HTML>\\n<HEAD>\\n  <TIT' http://www.scikit-learn.org\n",
      "b'\\n<!DOCTYPE HTML PUBL' http://www.numpy.org\n",
      "b'<!DOCTYPE HTML>\\n\\n<HT' http://www.scipy.org\n",
      "b'<!DOCTYPE HTML PUBLI' http://pandas.pydata.org\n",
      "Elapsed time: 1.3736803531646729\n"
     ]
    }
   ],
   "source": [
    "import urllib, time, hashlib\n",
    "\n",
    "hosts = ['http://www.scikit-learn.org', 'http://www.numpy.org', 'http://www.scipy.org', 'http://pandas.pydata.org']\n",
    "\n",
    "start = time.time()\n",
    "for host in hosts:\n",
    "    url = urllib.request.urlopen(host)\n",
    "    print(url.read().upper()[:20], host)\n",
    "print(\"Elapsed time: {}\".format(time.time() - start))"
   ]
  },
  {
   "cell_type": "markdown",
   "metadata": {
    "slideshow": {
     "slide_type": "subslide"
    }
   },
   "source": [
    "# Multi-threaded\n",
    "&#8203;"
   ]
  },
  {
   "cell_type": "code",
   "execution_count": 3,
   "metadata": {
    "collapsed": false,
    "scrolled": false,
    "slideshow": {
     "slide_type": "fragment"
    }
   },
   "outputs": [
    {
     "name": "stdout",
     "output_type": "stream",
     "text": [
      "b'\\n<!DOCTYPE HTML PUBL' http://www.numpy.org\n",
      "b'<HTML>\\n<HEAD>\\n  <TIT' http://www.scikit-learn.org\n",
      "b'<!DOCTYPE HTML>\\n\\n<HT' http://www.scipy.org\n",
      "b'<!DOCTYPE HTML PUBLI' http://pandas.pydata.org\n",
      "Elapsed time: 0.5780215263366699\n"
     ]
    }
   ],
   "source": [
    "import threading\n",
    "\n",
    "def print_page(host):\n",
    "    url = urllib.request.urlopen(host)\n",
    "    print(url.read().upper()[:20], host)\n",
    "\n",
    "# generate jobs\n",
    "jobs = list()\n",
    "for host in hosts:\n",
    "    jobs.append(threading.Thread(target=print_page, args=(host,)))\n",
    "    \n",
    "start = time.time()\n",
    "# start jobs\n",
    "for job in jobs:\n",
    "    job.start()\n",
    "    \n",
    "# wait for jobs to finish\n",
    "for job in jobs:\n",
    "    job.join()\n",
    "print(\"Elapsed time: {}\".format(time.time() - start))"
   ]
  },
  {
   "cell_type": "markdown",
   "metadata": {
    "slideshow": {
     "slide_type": "subslide"
    }
   },
   "source": [
    "# Asynchronous \n",
    "&#8203;"
   ]
  },
  {
   "cell_type": "code",
   "execution_count": 36,
   "metadata": {
    "collapsed": false,
    "scrolled": true,
    "slideshow": {
     "slide_type": "fragment"
    }
   },
   "outputs": [],
   "source": [
    "# This code runs only with Python 2\n",
    "from twisted.internet import defer, task\n",
    "from twisted.web.client import getPage\n",
    "\n",
    "start = time.time()\n",
    "\n",
    "def print_capitalized(txt, host):\n",
    "    print(txt.upper()[:20], host)\n",
    "    \n",
    "def print_elapsed_time(result):\n",
    "    print(\"Elapsed time: {}\".format(time.time() - start))\n",
    "    \n",
    "def main(react, hosts):\n",
    "    dlist = list()\n",
    "    for host in hosts:\n",
    "        d = getPage(host)\n",
    "        d.addCallback(print_capitalized, host)\n",
    "        dlist.append(d)\n",
    "    \n",
    "    return defer.gatherResults(dlist).addCallback(print_elapsed_time)\n",
    "\n",
    "task.react(main, (hosts,))"
   ]
  },
  {
   "cell_type": "markdown",
   "metadata": {
    "slideshow": {
     "slide_type": "skip"
    }
   },
   "source": [
    "Elapsed time: 0.423393964767"
   ]
  },
  {
   "cell_type": "markdown",
   "metadata": {
    "slideshow": {
     "slide_type": "subslide"
    }
   },
   "source": [
    "# Some thoughts about callbacks\n",
    "\n",
    "> It requires super human descipline to write readable code in callbacks and if you don't believe me look at any piece of JavaScript code - **Guido van Rossum**"
   ]
  },
  {
   "cell_type": "markdown",
   "metadata": {
    "slideshow": {
     "slide_type": "subslide"
    }
   },
   "source": [
    "# Asynchronous \n",
    "&#8203;"
   ]
  },
  {
   "cell_type": "code",
   "execution_count": 4,
   "metadata": {
    "collapsed": false,
    "slideshow": {
     "slide_type": "fragment"
    }
   },
   "outputs": [
    {
     "name": "stdout",
     "output_type": "stream",
     "text": [
      "b'\\n<!DOCTYPE HTML PUBL' http://www.numpy.org\n",
      "b'<!DOCTYPE HTML>\\n\\n<HT' http://www.scipy.org\n",
      "b'<HTML>\\n<HEAD>\\n  <TIT' http://www.scikit-learn.org\n",
      "b'<!DOCTYPE HTML PUBLI' http://pandas.pydata.org\n",
      "Elapsed time: 0.332597017288208\n"
     ]
    }
   ],
   "source": [
    "import asyncio\n",
    "import aiohttp\n",
    "\n",
    "start = time.time()\n",
    "\n",
    "@asyncio.coroutine\n",
    "def print_page(host):\n",
    "       response = yield from aiohttp.request('GET', host)\n",
    "       page = yield from response.read()\n",
    "       print(page.upper()[:20], host)\n",
    "\n",
    "tasks = list()\n",
    "for host in hosts:\n",
    "  tasks.append(print_page(host))\n",
    "\n",
    "loop = asyncio.get_event_loop()\n",
    "loop.run_until_complete(asyncio.wait(tasks))\n",
    "\n",
    "print(\"Elapsed time: {}\".format(time.time() - start))"
   ]
  },
  {
   "cell_type": "markdown",
   "metadata": {
    "slideshow": {
     "slide_type": "subslide"
    }
   },
   "source": [
    "# What should our MedBot do?\n",
    "![bot](gfx/bot.png)\n",
    "* notify a friend at 8pm about taking his long-acting insulin using Google Talk/Hangouts\n",
    "* wait 20min for a reply then ask again, repeat this twice\n",
    "* when message is retrieved check for \"yes\" and praise him, do nothing if no \"yes\"\n",
    "* after having asked three times in total, i.e. 60min later, send give up message"
   ]
  },
  {
   "cell_type": "markdown",
   "metadata": {
    "slideshow": {
     "slide_type": "subslide"
    }
   },
   "source": [
    "# State machine\n",
    "\n",
    "![state_machine](gfx/state_machine.png)"
   ]
  },
  {
   "cell_type": "markdown",
   "metadata": {
    "collapsed": true,
    "slideshow": {
     "slide_type": "subslide"
    }
   },
   "source": [
    "# Implementation\n",
    "\n",
    "* The implementation uses the concepts introduced above.\n",
    "* Checkout [https://github.com/blue-yonder/medbot/](https://github.com/blue-yonder/medbot/).\n",
    " * **src/medbot_xmpp.py** for an implementation using XMPP\n",
    " * **src/medbot_asyncio.py** for an implementation using ASYNCIO\n",
    " "
   ]
  },
  {
   "cell_type": "markdown",
   "metadata": {
    "slideshow": {
     "slide_type": "slide"
    }
   },
   "source": [
    "# OAuth2\n",
    "* open standard for authorization\n",
    "* allows resource owners to authorize third-party access to their resources *without sharing their credentials*\n",
    "* clients use access-tokens to access the protected resources on a server\n",
    "* [https://developers.google.com/identity/protocols/OAuth2](https://developers.google.com/identity/protocols/OAuth2)"
   ]
  },
  {
   "cell_type": "markdown",
   "metadata": {
    "slideshow": {
     "slide_type": "subslide"
    }
   },
   "source": [
    "![webflow by Google, CC 3.0](gfx/webflow.png)\n",
    "[https://developers.google.com/identity/protocols/OAuth2InstalledApp](https://developers.google.com/identity/protocols/OAuth2InstalledApp)"
   ]
  },
  {
   "cell_type": "markdown",
   "metadata": {
    "slideshow": {
     "slide_type": "subslide"
    }
   },
   "source": [
    "# How to use it?\n",
    "\n",
    "1. create a project with the Google Developers Console\n",
    "1. give some details for the consent screen\n",
    "1. create OAuth client credentials (id and secret)\n",
    "1. request token for a scope\n",
    "1. get the user's consent to get authorization code\n",
    "1. exchange code for a token\n"
   ]
  },
  {
   "cell_type": "markdown",
   "metadata": {
    "slideshow": {
     "slide_type": "subslide"
    }
   },
   "source": [
    "# Google Developers Console\n",
    "![Google Developers Console](gfx/dev_console_projects.png)\n",
    "[https://console.developers.google.com/](https://console.developers.google.com/)"
   ]
  },
  {
   "cell_type": "markdown",
   "metadata": {
    "slideshow": {
     "slide_type": "subslide"
    }
   },
   "source": [
    "# Consent screen\n",
    "![Consent Screen](gfx/authentication.png)"
   ]
  },
  {
   "cell_type": "markdown",
   "metadata": {
    "slideshow": {
     "slide_type": "subslide"
    }
   },
   "source": [
    "# Settings for Consent screen\n",
    "![](gfx/dev_console_consent.png)"
   ]
  },
  {
   "cell_type": "markdown",
   "metadata": {
    "slideshow": {
     "slide_type": "subslide"
    }
   },
   "source": [
    "# Settings for client credentials\n",
    "![](gfx/dev_console_credentials.png)"
   ]
  },
  {
   "cell_type": "markdown",
   "metadata": {
    "slideshow": {
     "slide_type": "subslide"
    }
   },
   "source": [
    "![](gfx/dev_console_create_client.png)"
   ]
  },
  {
   "cell_type": "markdown",
   "metadata": {
    "slideshow": {
     "slide_type": "subslide"
    }
   },
   "source": [
    "# Client credentials\n",
    "![](gfx/dev_console_client_credentials.png)"
   ]
  },
  {
   "cell_type": "markdown",
   "metadata": {
    "slideshow": {
     "slide_type": "subslide"
    }
   },
   "source": [
    "# Request a token for a scope\n",
    "\n",
    "* just form a GET request and let the user confirm\n",
    "* use the scope for Google Talk (https://www.googleapis.com/auth/googletalk)\n",
    "* get the user's consent and retrieve the authentication code"
   ]
  },
  {
   "cell_type": "code",
   "execution_count": 15,
   "metadata": {
    "collapsed": false,
    "slideshow": {
     "slide_type": "fragment"
    }
   },
   "outputs": [],
   "source": [
    "import urllib\n",
    "params = dict(client_id='10250...com',\n",
    "              scope='https://www.googleapis.com/auth/googletalk',\n",
    "              redirect_uri='urn:ietf:wg:oauth:2.0:oob',\n",
    "              response_type='code')\n",
    "url = 'https://accounts.google.com/o/oauth2/auth?{}'.format(urllib.parse.urlencode(params))"
   ]
  },
  {
   "cell_type": "markdown",
   "metadata": {
    "slideshow": {
     "slide_type": "subslide"
    }
   },
   "source": [
    "# Consent screen\n",
    "![Consent Screen](gfx/authentication.png)"
   ]
  },
  {
   "cell_type": "markdown",
   "metadata": {
    "slideshow": {
     "slide_type": "subslide"
    }
   },
   "source": [
    "# Authentication Code\n",
    "![Authentication code](gfx/authentication_code.png)"
   ]
  },
  {
   "cell_type": "markdown",
   "metadata": {
    "slideshow": {
     "slide_type": "subslide"
    }
   },
   "source": [
    "# Exchange code for token\n",
    "\n",
    "* use the authentication code to form a POST request\n"
   ]
  },
  {
   "cell_type": "code",
   "execution_count": 16,
   "metadata": {
    "collapsed": false,
    "slideshow": {
     "slide_type": "fragment"
    }
   },
   "outputs": [],
   "source": [
    "import requests\n",
    "params = dict(client_id='10250...com',\n",
    "              client_secret='qlEM...A6GQ',\n",
    "              code='4/504...PM85',\n",
    "              grant_type='authorization_code',\n",
    "              redirect_uri='urn:ietf:wg:oauth:2.0:oob')\n",
    "res = requests.post('https://www.googleapis.com/oauth2/v3/token', data=params).json()"
   ]
  },
  {
   "cell_type": "code",
   "execution_count": 17,
   "metadata": {
    "collapsed": true,
    "slideshow": {
     "slide_type": "skip"
    }
   },
   "outputs": [],
   "source": [
    "res = {'expires_in': 3600, 'access_token': 'ya29.sEFNeZZcHIG-sdfelULRscbJmOoZ6F5HELsun_rEs15VASul_2g__2GPM0BH4Vs3Jgq', 'token_type': 'Bearer', 'refresh_token': '1/GM3Bme7d8phaFRlnmKE3Gb_YwWdk9bDsqPI&J-kxlHBIgOrIDttvn6zK6XiATCKT'}\n"
   ]
  },
  {
   "cell_type": "code",
   "execution_count": 18,
   "metadata": {
    "collapsed": false,
    "slideshow": {
     "slide_type": "fragment"
    }
   },
   "outputs": [
    {
     "name": "stdout",
     "output_type": "stream",
     "text": [
      "{'access_token': 'ya29.sEFNeZZcHIG-sdfelULRscbJmOoZ6F5HELsun_rEs15VASul_2g__2GPM0BH4Vs3Jgq',\n",
      " 'expires_in': 3600,\n",
      " 'refresh_token': '1/GM3Bme7d8phaFRlnmKE3Gb_YwWdk9bDsqPI&J-kxlHBIgOrIDttvn6zK6XiATCKT',\n",
      " 'token_type': 'Bearer'}\n"
     ]
    }
   ],
   "source": [
    "import pprint\n",
    "pp = pprint.PrettyPrinter()\n",
    "pp.pprint(res)"
   ]
  },
  {
   "cell_type": "raw",
   "metadata": {
    "slideshow": {
     "slide_type": "subslide"
    }
   },
   "source": [
    "# That's it!\n",
    "* your app can use the access token to acces the API\n",
    "* store the refresh token to get new access tokens in the future"
   ]
  },
  {
   "cell_type": "markdown",
   "metadata": {
    "slideshow": {
     "slide_type": "slide"
    }
   },
   "source": [
    "# Thanks for your attention\n",
    "![bot](gfx/bot_waves.png)"
   ]
  },
  {
   "cell_type": "markdown",
   "metadata": {
    "collapsed": true,
    "slideshow": {
     "slide_type": "slide"
    }
   },
   "source": [
    "# Credits\n",
    "* Thanks to Tom Dryer for some explanations about hangups\n",
    "* OAuth2 webflow diagram was created and [shared by Google](https://developers.google.com/readme/policies/) and used according to terms described in the [Creative Commons 3.0 Attribution License](http://creativecommons.org/licenses/by/3.0/). The image was scaled and white changed to alpha."
   ]
  }
 ],
 "metadata": {
  "celltoolbar": "Slideshow",
  "kernelspec": {
   "display_name": "Python 3",
   "language": "python",
   "name": "python3"
  },
  "language_info": {
   "codemirror_mode": {
    "name": "ipython",
    "version": 3
   },
   "file_extension": ".py",
   "mimetype": "text/x-python",
   "name": "python",
   "nbconvert_exporter": "python",
   "pygments_lexer": "ipython3",
   "version": "3.4.2"
  }
 },
 "nbformat": 4,
 "nbformat_minor": 0
}
