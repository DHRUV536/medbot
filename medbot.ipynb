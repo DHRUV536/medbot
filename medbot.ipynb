{
 "cells": [
  {
   "cell_type": "markdown",
   "metadata": {
    "slideshow": {
     "slide_type": "slide"
    }
   },
   "source": [
    "# \"It's about time to take your medication!\"\n",
    "## or how to write a friendly reminder bot ;-)\n",
    "\n",
    "* Florian Wilhelm, Blue Yonder\n",
    "* EuroPython 2015, Bilbao, Spain\n",
    "* [https://github.com/blue-yonder/medbot/](https://github.com/blue-yonder/medbot/)"
   ]
  },
  {
   "cell_type": "markdown",
   "metadata": {
    "collapsed": true,
    "slideshow": {
     "slide_type": "slide"
    }
   },
   "source": [
    "# Motivation\n",
    "\n",
    "Why would anyone write a chat bot?"
   ]
  },
  {
   "cell_type": "markdown",
   "metadata": {
    "slideshow": {
     "slide_type": "subslide"
    }
   },
   "source": [
    "# Motivation\n",
    "\n",
    "Learn about...\n",
    "* the concepts of event-driven/asynchronous programming\n",
    "* the basics of chat protocols like XMPP\n",
    "* how to write a small Google App\n",
    "* help a friend with diabetes\n"
   ]
  },
  {
   "cell_type": "markdown",
   "metadata": {
    "slideshow": {
     "slide_type": "slide"
    }
   },
   "source": [
    "#Event-driven Programming\n",
    "> In an event-driven program, program flow is determined by external events. It is characterized by an *event loop* and the use of callback to trigger actions when events happen. - **Jessica McKellar, Twisted Network Programming Essentials**"
   ]
  },
  {
   "cell_type": "markdown",
   "metadata": {
    "slideshow": {
     "slide_type": "fragment"
    }
   },
   "source": [
    "* main loop listens for events and triggers *callback functions* (continuations) when one of these events is detected\n",
    "* mostly single-threaded but multi-threaded architectures also exist\n",
    "* can be blocking (synchronous) or non-blocking (asynchronous)"
   ]
  },
  {
   "cell_type": "markdown",
   "metadata": {
    "slideshow": {
     "slide_type": "subslide"
    }
   },
   "source": [
    "#Asynchronous Programming\n",
    "> Asynchronous I/O, or non-blocking I/O is a form of input/output processing that permits other processing to continue before the transmission has finished - **Wikipedia**"
   ]
  },
  {
   "cell_type": "markdown",
   "metadata": {
    "slideshow": {
     "slide_type": "fragment"
    }
   },
   "source": [
    "* a form of cooperative multi-tasking\n",
    "* concept can be implemented as an event loop"
   ]
  },
  {
   "cell_type": "markdown",
   "metadata": {
    "slideshow": {
     "slide_type": "subslide"
    }
   },
   "source": [
    "![single threaded](gfx/asynchronous_st.png)"
   ]
  },
  {
   "cell_type": "markdown",
   "metadata": {
    "slideshow": {
     "slide_type": "subslide"
    }
   },
   "source": [
    "![multi-threaded](gfx/asynchronous_mt.png)"
   ]
  },
  {
   "cell_type": "markdown",
   "metadata": {
    "slideshow": {
     "slide_type": "subslide"
    }
   },
   "source": [
    "![asynchronous](gfx/asynchronous_async.png)"
   ]
  },
  {
   "cell_type": "markdown",
   "metadata": {
    "slideshow": {
     "slide_type": "subslide"
    }
   },
   "source": [
    "#When to use asynchronous event-driven programming?\n",
    "* if you have many tasks\n",
    "* your tasks are largely independent (no much inter-communication)\n",
    "* some tasks block while waiting for I/O, events...\n",
    "* your tasks share mutable data (that would need to be synced)\n",
    "\n",
    "Escpecially *network applications* and *user interfaces* have exactly these properties"
   ]
  },
  {
   "cell_type": "markdown",
   "metadata": {
    "slideshow": {
     "slide_type": "subslide"
    }
   },
   "source": [
    "# Examples\n",
    "\n",
    "**Task**: Fetch some urls and check the elapsed time\n",
    "\n",
    "1. single-threaded\n",
    "1. multi-threaded\n",
    "1. asynchronous"
   ]
  },
  {
   "cell_type": "markdown",
   "metadata": {
    "slideshow": {
     "slide_type": "subslide"
    }
   },
   "source": [
    "## Single-threaded"
   ]
  },
  {
   "cell_type": "code",
   "execution_count": 2,
   "metadata": {
    "collapsed": false,
    "slideshow": {
     "slide_type": "fragment"
    }
   },
   "outputs": [
    {
     "name": "stdout",
     "output_type": "stream",
     "text": [
      "b'<HTML>\\n<HEAD>\\n  <TIT' http://www.scikit-learn.org\n",
      "b'\\n<!DOCTYPE HTML PUBL' http://www.numpy.org\n",
      "b'<!DOCTYPE HTML>\\n\\n<HT' http://www.scipy.org\n",
      "b'<!DOCTYPE HTML PUBLI' http://pandas.pydata.org\n",
      "Elapsed time: 1.3736803531646729\n"
     ]
    }
   ],
   "source": [
    "import urllib, time, hashlib\n",
    "\n",
    "hosts = ['http://www.scikit-learn.org', 'http://www.numpy.org', 'http://www.scipy.org', 'http://pandas.pydata.org']\n",
    "\n",
    "start = time.time()\n",
    "for host in hosts:\n",
    "    f = urllib.request.urlopen(host)\n",
    "    print(f.read().upper()[:20], host)\n",
    "print(\"Elapsed time: {}\".format(time.time() - start))"
   ]
  },
  {
   "cell_type": "markdown",
   "metadata": {
    "slideshow": {
     "slide_type": "subslide"
    }
   },
   "source": [
    "## Multi-threaded"
   ]
  },
  {
   "cell_type": "code",
   "execution_count": 3,
   "metadata": {
    "collapsed": false,
    "scrolled": false,
    "slideshow": {
     "slide_type": "fragment"
    }
   },
   "outputs": [
    {
     "name": "stdout",
     "output_type": "stream",
     "text": [
      "b'\\n<!DOCTYPE HTML PUBL' http://www.numpy.org\n",
      "b'<HTML>\\n<HEAD>\\n  <TIT' http://www.scikit-learn.org\n",
      "b'<!DOCTYPE HTML>\\n\\n<HT' http://www.scipy.org\n",
      "b'<!DOCTYPE HTML PUBLI' http://pandas.pydata.org\n",
      "Elapsed time: 0.5780215263366699\n"
     ]
    }
   ],
   "source": [
    "import threading\n",
    "\n",
    "def print_page(host):\n",
    "    f = urllib.request.urlopen(host)\n",
    "    print(f.read().upper()[:20], host)\n",
    "\n",
    "# generate jobs\n",
    "jobs = list()\n",
    "for host in hosts:\n",
    "    jobs.append(threading.Thread(target=print_page, args=(host,)))\n",
    "    \n",
    "start = time.time()\n",
    "# start jobs\n",
    "for job in jobs:\n",
    "    job.start()\n",
    "    \n",
    "# wait for jobs to finish\n",
    "for job in jobs:\n",
    "    job.join()\n",
    "print(\"Elapsed time: {}\".format(time.time() - start))"
   ]
  },
  {
   "cell_type": "markdown",
   "metadata": {
    "slideshow": {
     "slide_type": "subslide"
    }
   },
   "source": [
    "## Asynchronous "
   ]
  },
  {
   "cell_type": "code",
   "execution_count": 36,
   "metadata": {
    "collapsed": false,
    "scrolled": true,
    "slideshow": {
     "slide_type": "fragment"
    }
   },
   "outputs": [
    {
     "name": "stdout",
     "output_type": "stream",
     "text": [
      "b'\\n<!DOCTYPE HTML PUBL' http://www.numpy.org\n",
      "b'<HTML>\\n<HEAD>\\n  <TIT' http://www.scikit-learn.org\n",
      "b'<!DOCTYPE HTML>\\n\\n<HT' http://www.scipy.org\n",
      "b'<!DOCTYPE HTML PUBLI' http://pandas.pydata.org\n",
      "Elapsed time: 0.423393964767\n"
     ]
    }
   ],
   "source": [
    "# This code runs only with Python 2\n",
    "from twisted.internet import defer, task\n",
    "from twisted.web.client import getPage\n",
    "\n",
    "start = time.time()\n",
    "\n",
    "def print_capitalized(html, host):\n",
    "    print(html.upper()[:20], host)\n",
    "    \n",
    "def print_elapsed_time(result):\n",
    "    print(\"Elapsed time: {}\".format(time.time() - start))\n",
    "    \n",
    "def main(react, hosts):\n",
    "    dlist = list()\n",
    "    for host in hosts:\n",
    "        d = getPage(host)\n",
    "        d.addCallback(print_capitalized, host)\n",
    "        dlist.append(d)\n",
    "    \n",
    "    return defer.gatherResults(dlist).addCallback(print_elapsed_time)\n",
    "\n",
    "task.react(main, (hosts,))"
   ]
  },
  {
   "cell_type": "markdown",
   "metadata": {
    "slideshow": {
     "slide_type": "subslide"
    }
   },
   "source": [
    "# Some thoughts about callbacks\n",
    "\n",
    "> It requires super human discipline to write readable code in callbacks and if you don't believe me look at any piece of JavaScript code - **Guido van Rossum**"
   ]
  },
  {
   "cell_type": "markdown",
   "metadata": {
    "slideshow": {
     "slide_type": "subslide"
    }
   },
   "source": [
    "## Asynchronous "
   ]
  },
  {
   "cell_type": "code",
   "execution_count": 4,
   "metadata": {
    "collapsed": false,
    "slideshow": {
     "slide_type": "fragment"
    }
   },
   "outputs": [
    {
     "name": "stdout",
     "output_type": "stream",
     "text": [
      "b'\\n<!DOCTYPE HTML PUBL' http://www.numpy.org\n",
      "b'<!DOCTYPE HTML>\\n\\n<HT' http://www.scipy.org\n",
      "b'<HTML>\\n<HEAD>\\n  <TIT' http://www.scikit-learn.org\n",
      "b'<!DOCTYPE HTML PUBLI' http://pandas.pydata.org\n",
      "Elapsed time: 0.332597017288208\n"
     ]
    }
   ],
   "source": [
    "import asyncio\n",
    "import aiohttp\n",
    "\n",
    "start = time.time()\n",
    "\n",
    "@asyncio.coroutine\n",
    "def print_page(host):\n",
    "    response = yield from aiohttp.request('GET', host)\n",
    "    html = yield from response.read()\n",
    "    print(html.upper()[:20], host)\n",
    "\n",
    "tasks = list()\n",
    "for host in hosts:\n",
    "    tasks.append(print_page(host))\n",
    "\n",
    "loop = asyncio.get_event_loop()\n",
    "loop.run_until_complete(asyncio.wait(tasks))\n",
    "\n",
    "print(\"Elapsed time: {}\".format(time.time() - start))"
   ]
  },
  {
   "cell_type": "markdown",
   "metadata": {
    "slideshow": {
     "slide_type": "slide"
    }
   },
   "source": [
    "# What should our MedBot do?\n",
    "![bot](gfx/bot.png)\n",
    "* notify a friend at 8pm about taking his long-acting insulin using Google Talk/Hangouts\n",
    "* wait 20min for a reply then ask again, repeat this twice\n",
    "* when message is retrieved check for \"yes\" and praise him, do nothing if no \"yes\"\n",
    "* after having asked three times in total, i.e. 60min later, send give up message"
   ]
  },
  {
   "cell_type": "markdown",
   "metadata": {
    "slideshow": {
     "slide_type": "subslide"
    }
   },
   "source": [
    "# State machine\n",
    "\n",
    "![state_machine](gfx/state_machine.png)"
   ]
  },
  {
   "cell_type": "markdown",
   "metadata": {
    "slideshow": {
     "slide_type": "subslide"
    }
   },
   "source": [
    "# XMPP\n",
    "* Extensible Messaging and Presence Protocol based on XML\n",
    "* developed by the Jabber open-source community in 1999 for near real-time instant messaging\n",
    "* GTalk is based on XMPP but Hangout switched to a proprietary protocol\n",
    "* Facebook provided an XMPP API until May, 2015\n",
    "* AIM limited XMPP support"
   ]
  },
  {
   "cell_type": "markdown",
   "metadata": {
    "slideshow": {
     "slide_type": "subslide"
    }
   },
   "source": [
    "# SleekXMPP\n",
    "* MIT licensed XMPP library\n",
    "* Python 2.6/3.1+\n",
    "* Featured in the O'Reilly book [XMPP: The Definitive Guide](http://shop.oreilly.com/product/9780596521271.do) by Kevin Smith, Remko Tronçon, and Peter Saint-Andre\n",
    "* **Design goals:** low number of dependencies, every XEP as a plugin and rewarding to work with"
   ]
  },
  {
   "cell_type": "markdown",
   "metadata": {
    "slideshow": {
     "slide_type": "subslide"
    }
   },
   "source": [
    "# Google Hangouts protocol\n",
    "* replaces Google Talk, Google+ Messenger and the Google+ video chat system\n",
    "* proprietary protocol, cannot be integrated with multi-chat clients like Pidgin or Adium\n",
    "* Some more features like photo messages and share location\n",
    "* Python library: [hangups](https://github.com/tdryer/hangups)\n"
   ]
  },
  {
   "cell_type": "markdown",
   "metadata": {
    "slideshow": {
     "slide_type": "subslide"
    }
   },
   "source": [
    "# Hangups\n",
    "\n",
    "* by Tom Dryer, MIT licensed\n",
    "* reverse-engineered the Hangouts protocol\n",
    "* provides a basic command-line chatting client\n",
    "* supports OAuth2 authentication as \"iOS device\"\n",
    "* quite active, already some bots use it\n",
    "* [https://github.com/tdryer/hangups](https://github.com/tdryer/hangups)\n"
   ]
  },
  {
   "cell_type": "markdown",
   "metadata": {
    "collapsed": true,
    "slideshow": {
     "slide_type": "subslide"
    }
   },
   "source": [
    "# Implementation\n",
    "\n",
    "* The implementation uses the concepts of event-driven/asynchronous programming introduced above.\n",
    "* Checkout [https://github.com/blue-yonder/medbot/](https://github.com/blue-yonder/medbot/).\n",
    " * **src/medbot_xmpp.py** for an implementation using XMPP\n",
    " * **src/medbot_asyncio.py** for an implementation using ASYNCIO\n",
    " "
   ]
  },
  {
   "cell_type": "markdown",
   "metadata": {
    "slideshow": {
     "slide_type": "subslide"
    }
   },
   "source": [
    "## Setting up the event loop"
   ]
  },
  {
   "cell_type": "code",
   "execution_count": null,
   "metadata": {
    "collapsed": true,
    "slideshow": {
     "slide_type": "fragment"
    }
   },
   "outputs": [],
   "source": [
    "def run(self):\n",
    "    self._client.on_connect.add_observer(self._on_connect)\n",
    "    self._client.on_disconnect.add_observer(self._on_disconnect)\n",
    "    loop = asyncio.get_event_loop()\n",
    "    # Set alarm\n",
    "    wait_time = self._get_secs_to_next_alarm()\n",
    "    loop.call_later(wait_time, self.set_alarm)\n",
    "    loop.run_until_complete(self._client.connect())"
   ]
  },
  {
   "cell_type": "markdown",
   "metadata": {
    "slideshow": {
     "slide_type": "subslide"
    }
   },
   "source": [
    "## Sending the alarm"
   ]
  },
  {
   "cell_type": "code",
   "execution_count": null,
   "metadata": {
    "collapsed": true,
    "slideshow": {
     "slide_type": "fragment"
    }
   },
   "outputs": [],
   "source": [
    "@asyncio.coroutine\n",
    "def send_alarm(self):\n",
    "    _logger.info('Sending reminder...')\n",
    "    msg = 'Hey buddy, did you take your insulin?'\n",
    "    conv = self._get_conv_with_recipient()\n",
    "    yield from self._send_message(conv, msg)\n",
    "    self._asked = True\n",
    "    repeat_timeout = 60*20\n",
    "    yield from asyncio.sleep(repeat_timeout)\n",
    "    for _ in range(2):\n",
    "        if not self._asked: break\n",
    "        yield from self._send_message(conv, 'How about now?')\n",
    "        yield from asyncio.sleep(repeat_timeout)\n",
    "    else:\n",
    "        if self._asked:\n",
    "            yield from self._send_message(conv, \"I'm giving up!\")\n",
    "    wait_time = self._get_secs_to_next_alarm()\n",
    "    loop = asyncio.get_event_loop()\n",
    "    loop.call_later(wait_time, self.set_alarm)\n",
    "    self._asked = False"
   ]
  },
  {
   "cell_type": "markdown",
   "metadata": {
    "slideshow": {
     "slide_type": "subslide"
    }
   },
   "source": [
    "## Handling a message"
   ]
  },
  {
   "cell_type": "code",
   "execution_count": null,
   "metadata": {
    "collapsed": true,
    "slideshow": {
     "slide_type": "fragment"
    }
   },
   "outputs": [],
   "source": [
    "@asyncio.coroutine\n",
    "def _on_event(self, conv_event):\n",
    "    _logger.info(\"Message received...\")\n",
    "    conv = self._conv_list.get(conv_event.conversation_id)\n",
    "    user = conv.get_user(conv_event.user_id)\n",
    "    if isinstance(conv_event, hangups.ChatMessageEvent):\n",
    "        text = conv_event.text.strip()\n",
    "    else:\n",
    "        text = ''\n",
    "    from_recipient = self._recipient_id == user.id_\n",
    "    is_positive = text.lower().startswith('yes')\n",
    "    if from_recipient and is_positive and self._asked:\n",
    "        _logger.info(\"Positive reply received\")\n",
    "        self._asked = False\n",
    "        yield from self._send_message(conv, \"That's great!\")"
   ]
  },
  {
   "cell_type": "markdown",
   "metadata": {
    "slideshow": {
     "slide_type": "slide"
    }
   },
   "source": [
    "# OAuth2\n",
    "* open standard for authorization\n",
    "* allows resource owners to authorize third-party access to their resources *without sharing their credentials*\n",
    "* clients use access-tokens to access the protected resources on a server\n",
    "* [https://developers.google.com/identity/protocols/OAuth2](https://developers.google.com/identity/protocols/OAuth2)"
   ]
  },
  {
   "cell_type": "markdown",
   "metadata": {
    "slideshow": {
     "slide_type": "subslide"
    }
   },
   "source": [
    "![webflow by Google, CC 3.0](gfx/webflow.png)\n",
    "[https://developers.google.com/identity/protocols/OAuth2InstalledApp](https://developers.google.com/identity/protocols/OAuth2InstalledApp)"
   ]
  },
  {
   "cell_type": "markdown",
   "metadata": {
    "slideshow": {
     "slide_type": "subslide"
    }
   },
   "source": [
    "![Authentication](gfx/authentication.png)"
   ]
  },
  {
   "cell_type": "markdown",
   "metadata": {
    "slideshow": {
     "slide_type": "slide"
    }
   },
   "source": [
    "# MedBot in action\n",
    "![screenshot](gfx/chat_screen.png)"
   ]
  },
  {
   "cell_type": "markdown",
   "metadata": {
    "collapsed": true,
    "slideshow": {
     "slide_type": "subslide"
    }
   },
   "source": [
    "# Credits\n",
    "* Thanks to Tom Dryer for some explanations about hangups.\n",
    "* OAuth2 webflow diagram was created and [shared by Google](https://developers.google.com/readme/policies/) and used according to terms described in the [Creative Commons 3.0 Attribution License](http://creativecommons.org/licenses/by/3.0/). The image was scaled and white changed to alpha.\n",
    "* Bot was taken from [pixabay](https://pixabay.com/en/android-robotics-machine-robot-150996/), [Creative Commons CC0](https://pixabay.com/en/service/terms/#download_terms)"
   ]
  },
  {
   "cell_type": "markdown",
   "metadata": {
    "slideshow": {
     "slide_type": "subslide"
    }
   },
   "source": [
    "# Thanks for your attention\n",
    "![bot](gfx/bot_waves.png)"
   ]
  },
  {
   "cell_type": "markdown",
   "metadata": {
    "slideshow": {
     "slide_type": "subslide"
    }
   },
   "source": [
    "![advertisement](gfx/by_advertisement.png)"
   ]
  }
 ],
 "metadata": {
  "celltoolbar": "Slideshow",
  "kernelspec": {
   "display_name": "Python 3",
   "language": "python",
   "name": "python3"
  },
  "language_info": {
   "codemirror_mode": {
    "name": "ipython",
    "version": 3
   },
   "file_extension": ".py",
   "mimetype": "text/x-python",
   "name": "python",
   "nbconvert_exporter": "python",
   "pygments_lexer": "ipython3",
   "version": "3.4.2"
  }
 },
 "nbformat": 4,
 "nbformat_minor": 0
}
