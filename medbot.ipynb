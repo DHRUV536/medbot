{
 "cells": [
  {
   "cell_type": "markdown",
   "metadata": {
    "slideshow": {
     "slide_type": "slide"
    }
   },
   "source": [
    "# \"It's about time to take your medication!\"\n",
    "## or how to write a friendly reminder bot ;-)\n",
    "\n",
    "* Florian Wilhelm\n",
    "* EuroPython 2015, Bilbao, Spain\n",
    "* [https://github.com/blue-yonder/medbot/](https://github.com/blue-yonder/medbot/)"
   ]
  },
  {
   "cell_type": "markdown",
   "metadata": {
    "slideshow": {
     "slide_type": "slide"
    }
   },
   "source": [
    "# Outline\n",
    "* Motivation\n",
    "* XMPP\n",
    "* Event-Driven Programming\n",
    "* OAUTH2\n",
    "* Credits"
   ]
  },
  {
   "cell_type": "markdown",
   "metadata": {
    "collapsed": true,
    "slideshow": {
     "slide_type": "slide"
    }
   },
   "source": [
    "# Motivation"
   ]
  },
  {
   "cell_type": "markdown",
   "metadata": {
    "slideshow": {
     "slide_type": "slide"
    }
   },
   "source": [
    "# XMPP\n",
    "* GTalk is based on XMPP but Hangout switched to a proprietary protocol\n",
    "* Facebook provided an XMPP API until May, 2015\n",
    "* AIM limited XMPP support"
   ]
  },
  {
   "cell_type": "markdown",
   "metadata": {
    "slideshow": {
     "slide_type": "subslide"
    }
   },
   "source": [
    "# SleekXMPP\n",
    "* MIT licensed XMPP library\n",
    "* Python 2.6/3.1+\n",
    "* Featured in the O'Reilly book [XMPP: The Definitive Guide](http://shop.oreilly.com/product/9780596521271.do) by Kevin Smith, Remko Tronçon, and Peter Saint-Andre\n",
    "* **Design goals:** low number of dependencies, every XEP as a plugin and rewarding to work with"
   ]
  },
  {
   "cell_type": "markdown",
   "metadata": {
    "slideshow": {
     "slide_type": "slide"
    }
   },
   "source": [
    "#Event-driven Programming"
   ]
  },
  {
   "cell_type": "markdown",
   "metadata": {
    "slideshow": {
     "slide_type": "subslide"
    }
   },
   "source": [
    "![single threaded](gfx/asynchronous_st.png)"
   ]
  },
  {
   "cell_type": "markdown",
   "metadata": {
    "slideshow": {
     "slide_type": "subslide"
    }
   },
   "source": [
    "![multi-threaded](gfx/asynchronous_mt.png)"
   ]
  },
  {
   "cell_type": "markdown",
   "metadata": {
    "slideshow": {
     "slide_type": "subslide"
    }
   },
   "source": [
    "![asynchronous](gfx/asynchronous_async.png)"
   ]
  },
  {
   "cell_type": "markdown",
   "metadata": {
    "slideshow": {
     "slide_type": "slide"
    }
   },
   "source": [
    "# OAuth2\n",
    "* open standard for authorization\n",
    "* allows resource owners to authorize third-party access to their resources *without sharing their credentials*\n",
    "* clients use access-tokens to access the protected resources on a server\n",
    "* [https://developers.google.com/identity/protocols/OAuth2](https://developers.google.com/identity/protocols/OAuth2)"
   ]
  },
  {
   "cell_type": "markdown",
   "metadata": {
    "slideshow": {
     "slide_type": "subslide"
    }
   },
   "source": [
    "![webflow by Google, CC 3.0](gfx/webflow.png)\n",
    "[https://developers.google.com/identity/protocols/OAuth2InstalledApp](https://developers.google.com/identity/protocols/OAuth2InstalledApp)"
   ]
  },
  {
   "cell_type": "markdown",
   "metadata": {
    "slideshow": {
     "slide_type": "subslide"
    }
   },
   "source": [
    "https://developers.google.com/talk/jep_extensions/oauth"
   ]
  },
  {
   "cell_type": "markdown",
   "metadata": {
    "slideshow": {
     "slide_type": "subslide"
    }
   },
   "source": [
    "![Google Developers Console](gfx/dev_console_projects.png)\n",
    "[https://console.developers.google.com/](https://console.developers.google.com/)"
   ]
  },
  {
   "cell_type": "markdown",
   "metadata": {
    "slideshow": {
     "slide_type": "subslide"
    }
   },
   "source": [
    "![](gfx/dev_console_consent.png)"
   ]
  },
  {
   "cell_type": "markdown",
   "metadata": {
    "slideshow": {
     "slide_type": "subslide"
    }
   },
   "source": [
    "![](gfx/dev_console_credentials.png)"
   ]
  },
  {
   "cell_type": "markdown",
   "metadata": {
    "slideshow": {
     "slide_type": "subslide"
    }
   },
   "source": [
    "![](gfx/dev_console_create_client.png)"
   ]
  },
  {
   "cell_type": "markdown",
   "metadata": {
    "slideshow": {
     "slide_type": "subslide"
    }
   },
   "source": [
    "![](gfx/dev_console_client_credentials.png)"
   ]
  },
  {
   "cell_type": "markdown",
   "metadata": {
    "collapsed": true,
    "slideshow": {
     "slide_type": "slide"
    }
   },
   "source": [
    "# Credits\n",
    "* OAuth2 webflow diagram was created and [shared by Google](https://developers.google.com/readme/policies/) and used according to terms described in the [Creative Commons 3.0 Attribution License](http://creativecommons.org/licenses/by/3.0/). The image was scaled and white changed to alpha."
   ]
  }
 ],
 "metadata": {
  "celltoolbar": "Slideshow",
  "kernelspec": {
   "display_name": "Python 3",
   "language": "python",
   "name": "python3"
  },
  "language_info": {
   "codemirror_mode": {
    "name": "ipython",
    "version": 3
   },
   "file_extension": ".py",
   "mimetype": "text/x-python",
   "name": "python",
   "nbconvert_exporter": "python",
   "pygments_lexer": "ipython3",
   "version": "3.4.2"
  }
 },
 "nbformat": 4,
 "nbformat_minor": 0
}
